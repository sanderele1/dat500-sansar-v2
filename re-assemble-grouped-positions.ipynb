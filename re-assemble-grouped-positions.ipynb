{
 "cells": [
  {
   "cell_type": "markdown",
   "id": "90434c94-9ed0-4d6c-b2a8-a69e8c084e9e",
   "metadata": {},
   "source": [
    "# Configuration\n",
    "> Note: Input format is a bit cludgey, needs some pre-processing. This should be fixed in the next iteration."
   ]
  },
  {
   "cell_type": "code",
   "execution_count": 56,
   "id": "f0ae558b-71ec-47ce-895f-b5179eff3fb1",
   "metadata": {},
   "outputs": [],
   "source": [
    "input_file = 'hdfs:///files/salmonella/grouped_positions'\n",
    "output_file = 'hdfs:///files/salmonella/assembly_reconstructed'"
   ]
  },
  {
   "cell_type": "code",
   "execution_count": 2,
   "id": "91068517-98ba-49bd-a6b3-6597d4d54efd",
   "metadata": {},
   "outputs": [
    {
     "data": {
      "text/plain": [
       "'/usr/local/spark/python/pyspark'"
      ]
     },
     "execution_count": 2,
     "metadata": {},
     "output_type": "execute_result"
    }
   ],
   "source": [
    "import findspark\n",
    "findspark.init()\n",
    "findspark.find()"
   ]
  },
  {
   "cell_type": "code",
   "execution_count": 3,
   "id": "6a1d747a-a6c3-4ca7-aa56-230bcd9fb26e",
   "metadata": {},
   "outputs": [
    {
     "name": "stderr",
     "output_type": "stream",
     "text": [
      "Setting default log level to \"WARN\".\n",
      "To adjust logging level use sc.setLogLevel(newLevel). For SparkR, use setLogLevel(newLevel).\n",
      "2022-04-24 10:38:12,635 WARN util.NativeCodeLoader: Unable to load native-hadoop library for your platform... using builtin-java classes where applicable\n",
      "2022-04-24 10:38:24,261 WARN yarn.Client: Neither spark.yarn.jars nor spark.yarn.archive is set, falling back to uploading libraries under SPARK_HOME.\n"
     ]
    },
    {
     "data": {
      "text/html": [
       "\n",
       "        <div>\n",
       "            <p><b>SparkContext</b></p>\n",
       "\n",
       "            <p><a href=\"http://namenode:4040\">Spark UI</a></p>\n",
       "\n",
       "            <dl>\n",
       "              <dt>Version</dt>\n",
       "                <dd><code>v3.2.0</code></dd>\n",
       "              <dt>Master</dt>\n",
       "                <dd><code>yarn</code></dd>\n",
       "              <dt>AppName</dt>\n",
       "                <dd><code>python-testing</code></dd>\n",
       "            </dl>\n",
       "        </div>\n",
       "        "
      ],
      "text/plain": [
       "<SparkContext master=yarn appName=python-testing>"
      ]
     },
     "execution_count": 3,
     "metadata": {},
     "output_type": "execute_result"
    }
   ],
   "source": [
    "from pyspark.sql import SparkSession\n",
    "\n",
    "spark = (SparkSession\n",
    "         .builder\n",
    "         .master(\"yarn\")\n",
    "         .appName(\"python-testing\")\n",
    "         .config(\"spark.executor.instances\", 16)\n",
    "         .config(\"spark.executor.memory\", \"1536m\")\n",
    "         .getOrCreate())\n",
    "\n",
    "sc = spark.sparkContext\n",
    "sc"
   ]
  },
  {
   "cell_type": "code",
   "execution_count": 57,
   "id": "297f72c5-de22-4ae7-bb53-96837cd4aa0d",
   "metadata": {},
   "outputs": [
    {
     "data": {
      "text/plain": [
       "['\"100000\"\\t[\"A\", \"A\", \"A\", \"A\", \"A\", \"A\", \"A\", \"A\", \"A\", \"A\", \"A\"]']"
      ]
     },
     "execution_count": 57,
     "metadata": {},
     "output_type": "execute_result"
    }
   ],
   "source": [
    "raw = sc.textFile(input_file)\n",
    "raw.take(1)"
   ]
  },
  {
   "cell_type": "code",
   "execution_count": 58,
   "id": "adc17065-ca53-4099-8583-c423d71e67c9",
   "metadata": {},
   "outputs": [
    {
     "data": {
      "text/plain": [
       "[('\"100000\"', '[\"A\", \"A\", \"A\", \"A\", \"A\", \"A\", \"A\", \"A\", \"A\", \"A\", \"A\"]')]"
      ]
     },
     "execution_count": 58,
     "metadata": {},
     "output_type": "execute_result"
    }
   ],
   "source": [
    "kv = raw.map(lambda x: tuple(x.split('\\t')))\n",
    "kv.take(1)"
   ]
  },
  {
   "cell_type": "code",
   "execution_count": 59,
   "id": "66a17e45-e419-494b-bb0a-c9888ec0d9d6",
   "metadata": {},
   "outputs": [
    {
     "data": {
      "text/plain": [
       "[(100000, ['A', 'A', 'A', 'A', 'A', 'A', 'A', 'A', 'A', 'A', 'A'])]"
      ]
     },
     "execution_count": 59,
     "metadata": {},
     "output_type": "execute_result"
    }
   ],
   "source": [
    "import json\n",
    "pkv = kv.map(lambda x: (int(x[0][1:-1]), json.loads(x[1])))\n",
    "pkv.take(1)"
   ]
  },
  {
   "cell_type": "code",
   "execution_count": 60,
   "id": "81d819a1-18e5-481f-84cf-01756ec4c547",
   "metadata": {},
   "outputs": [
    {
     "data": {
      "text/plain": [
       "[('A', 3)]"
      ]
     },
     "execution_count": 60,
     "metadata": {},
     "output_type": "execute_result"
    }
   ],
   "source": [
    "import collections\n",
    "t = [\"A\", \"A\", \"A\", \"B\", \"B\", \"B\"]\n",
    "collections.Counter(t).most_common(1)"
   ]
  },
  {
   "cell_type": "code",
   "execution_count": 61,
   "id": "365773a0-83e9-4756-9737-47ecd13f86e3",
   "metadata": {},
   "outputs": [
    {
     "data": {
      "text/plain": [
       "[(100000, ('A', 1.0, 11, [('A', 11)]))]"
      ]
     },
     "execution_count": 61,
     "metadata": {},
     "output_type": "execute_result"
    }
   ],
   "source": [
    "def mapFrequency(values):\n",
    "    import collections\n",
    "    \n",
    "    counter = collections.Counter(values)\n",
    "    prevalent_base_tuple = counter.most_common(1)[0]\n",
    "    prevalent_base = prevalent_base_tuple[0]\n",
    "    prevalent_base_count = prevalent_base_tuple[1]\n",
    "    prevalent_base_confidence = prevalent_base_count / len(values)\n",
    "    \n",
    "    return (prevalent_base, prevalent_base_confidence, prevalent_base_count, counter.most_common())\n",
    "\n",
    "assembled = pkv.mapValues(mapFrequency)\n",
    "assembled.take(1)"
   ]
  },
  {
   "cell_type": "code",
   "execution_count": 64,
   "id": "0fa0c182-3d6e-4a18-8121-51d0edf34d9c",
   "metadata": {},
   "outputs": [
    {
     "name": "stderr",
     "output_type": "stream",
     "text": [
      "                                                                                \r"
     ]
    }
   ],
   "source": [
    "assembled.saveAsPickleFile(output_file)"
   ]
  },
  {
   "cell_type": "code",
   "execution_count": null,
   "id": "a8813ec8-0c17-4ac1-a321-44795b6acec9",
   "metadata": {},
   "outputs": [],
   "source": []
  },
  {
   "cell_type": "code",
   "execution_count": null,
   "id": "86394b37-f785-407b-8136-a4eb39b1119c",
   "metadata": {},
   "outputs": [],
   "source": []
  }
 ],
 "metadata": {
  "kernelspec": {
   "display_name": "Python 3 (ipykernel)",
   "language": "python",
   "name": "python3"
  },
  "language_info": {
   "codemirror_mode": {
    "name": "ipython",
    "version": 3
   },
   "file_extension": ".py",
   "mimetype": "text/x-python",
   "name": "python",
   "nbconvert_exporter": "python",
   "pygments_lexer": "ipython3",
   "version": "3.8.10"
  }
 },
 "nbformat": 4,
 "nbformat_minor": 5
}
