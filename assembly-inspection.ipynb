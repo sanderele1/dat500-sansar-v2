{
 "cells": [
  {
   "cell_type": "code",
   "execution_count": 1,
   "id": "46559196-7d6d-46ca-9c73-d4c7cbdbb0c8",
   "metadata": {},
   "outputs": [],
   "source": [
    "input_assembly = 'hdfs:///files/salmonella/assembly_reconstructed'\n",
    "input_reference = 'hdfs:///files/salmonella/assembledASM694v2'"
   ]
  },
  {
   "cell_type": "code",
   "execution_count": 2,
   "id": "8d4ff26b-db0f-450a-9c72-1a4bae98894b",
   "metadata": {},
   "outputs": [
    {
     "data": {
      "text/plain": [
       "'/usr/local/spark/python/pyspark'"
      ]
     },
     "execution_count": 2,
     "metadata": {},
     "output_type": "execute_result"
    }
   ],
   "source": [
    "import findspark\n",
    "findspark.init()\n",
    "findspark.find()"
   ]
  },
  {
   "cell_type": "code",
   "execution_count": 3,
   "id": "40e6ee99-b4f9-4357-ba63-cfbd758617e7",
   "metadata": {},
   "outputs": [
    {
     "name": "stderr",
     "output_type": "stream",
     "text": [
      "Setting default log level to \"WARN\".\n",
      "To adjust logging level use sc.setLogLevel(newLevel). For SparkR, use setLogLevel(newLevel).\n",
      "2022-04-25 16:04:27,613 WARN util.NativeCodeLoader: Unable to load native-hadoop library for your platform... using builtin-java classes where applicable\n",
      "2022-04-25 16:04:38,845 WARN yarn.Client: Neither spark.yarn.jars nor spark.yarn.archive is set, falling back to uploading libraries under SPARK_HOME.\n"
     ]
    },
    {
     "data": {
      "text/html": [
       "\n",
       "        <div>\n",
       "            <p><b>SparkContext</b></p>\n",
       "\n",
       "            <p><a href=\"http://namenode:4040\">Spark UI</a></p>\n",
       "\n",
       "            <dl>\n",
       "              <dt>Version</dt>\n",
       "                <dd><code>v3.2.0</code></dd>\n",
       "              <dt>Master</dt>\n",
       "                <dd><code>yarn</code></dd>\n",
       "              <dt>AppName</dt>\n",
       "                <dd><code>python-testing</code></dd>\n",
       "            </dl>\n",
       "        </div>\n",
       "        "
      ],
      "text/plain": [
       "<SparkContext master=yarn appName=python-testing>"
      ]
     },
     "execution_count": 3,
     "metadata": {},
     "output_type": "execute_result"
    }
   ],
   "source": [
    "from pyspark.sql import SparkSession\n",
    "\n",
    "spark = (SparkSession\n",
    "         .builder\n",
    "         .master(\"yarn\")\n",
    "         .appName(\"python-testing\")\n",
    "         .config(\"spark.executor.instances\", 16)\n",
    "         .config(\"spark.executor.memory\", \"1536m\")\n",
    "         .getOrCreate())\n",
    "\n",
    "sc = spark.sparkContext\n",
    "sc"
   ]
  },
  {
   "cell_type": "code",
   "execution_count": 4,
   "id": "07d217b1-84b4-4f7b-8279-db79b152d5d9",
   "metadata": {},
   "outputs": [
    {
     "name": "stderr",
     "output_type": "stream",
     "text": [
      "                                                                                \r"
     ]
    },
    {
     "data": {
      "text/plain": [
       "[(100080, ('T', 0.9411764705882353, 16, [('T', 16), ('A', 1)]))]"
      ]
     },
     "execution_count": 4,
     "metadata": {},
     "output_type": "execute_result"
    }
   ],
   "source": [
    "assembly = sc.pickleFile(input_assembly).repartition(32).cache()\n",
    "assembly.take(1)"
   ]
  },
  {
   "cell_type": "code",
   "execution_count": 5,
   "id": "8ff5c8a9-bbd0-4715-bb11-6e084ec98e3a",
   "metadata": {},
   "outputs": [],
   "source": [
    "def preprocess(raw, segmentLength):\n",
    "    indexed = raw.zipWithIndex().map(lambda x: (x[1], x[0]))\n",
    "    atomized = indexed.flatMap(lambda x: [(x[0] * segmentLength + i, v) for i, v in enumerate(x[1])])\n",
    "    return atomized"
   ]
  },
  {
   "cell_type": "code",
   "execution_count": 6,
   "id": "d058a8a2-bb0e-4873-9cba-75221a33d3f3",
   "metadata": {},
   "outputs": [
    {
     "name": "stderr",
     "output_type": "stream",
     "text": [
      "                                                                                \r"
     ]
    },
    {
     "data": {
      "text/plain": [
       "[(80, 'G')]"
      ]
     },
     "execution_count": 6,
     "metadata": {},
     "output_type": "execute_result"
    }
   ],
   "source": [
    "reference = preprocess(sc.textFile(input_reference).filter(lambda x: not x.startswith('>')), 80).repartition(32).cache()\n",
    "reference.take(1)"
   ]
  },
  {
   "cell_type": "code",
   "execution_count": 7,
   "id": "f8f1e693-9509-4bfc-9bfc-cb031e60986a",
   "metadata": {},
   "outputs": [
    {
     "name": "stderr",
     "output_type": "stream",
     "text": [
      "                                                                                \r"
     ]
    },
    {
     "data": {
      "text/plain": [
       "[('G', 1.0, 25, [('G', 25)])]"
      ]
     },
     "execution_count": 7,
     "metadata": {},
     "output_type": "execute_result"
    }
   ],
   "source": [
    "assembly.lookup(80)"
   ]
  },
  {
   "cell_type": "code",
   "execution_count": 8,
   "id": "1b4f839a-ad6b-49f2-a5bb-2f1644700b92",
   "metadata": {},
   "outputs": [
    {
     "name": "stderr",
     "output_type": "stream",
     "text": [
      "                                                                                \r"
     ]
    },
    {
     "data": {
      "text/plain": [
       "[(3882432, ('A', ('A', 1.0, 16, [('A', 16)])))]"
      ]
     },
     "execution_count": 8,
     "metadata": {},
     "output_type": "execute_result"
    }
   ],
   "source": [
    "joined = reference.join(assembly)\n",
    "joined.take(1)"
   ]
  },
  {
   "cell_type": "code",
   "execution_count": 9,
   "id": "11f4e180-f768-440b-b4b5-97563d3d2de5",
   "metadata": {},
   "outputs": [],
   "source": [
    "#joined.repartition(1).saveAsPickleFile('/home/ubuntu/assembly_joined')"
   ]
  },
  {
   "cell_type": "code",
   "execution_count": 10,
   "id": "5a6cb4ad-74c0-4c67-b43d-dba6b9553052",
   "metadata": {},
   "outputs": [
    {
     "name": "stderr",
     "output_type": "stream",
     "text": [
      "                                                                                \r"
     ]
    },
    {
     "data": {
      "text/plain": [
       "4951383"
      ]
     },
     "execution_count": 10,
     "metadata": {},
     "output_type": "execute_result"
    }
   ],
   "source": [
    "total_basepairs = reference.count()\n",
    "total_basepairs"
   ]
  },
  {
   "cell_type": "code",
   "execution_count": 11,
   "id": "1ba60a05-6a4b-4f27-9a4d-299f0366db22",
   "metadata": {},
   "outputs": [
    {
     "name": "stderr",
     "output_type": "stream",
     "text": [
      "                                                                                \r"
     ]
    },
    {
     "data": {
      "text/plain": [
       "4950572"
      ]
     },
     "execution_count": 11,
     "metadata": {},
     "output_type": "execute_result"
    }
   ],
   "source": [
    "joined.count()"
   ]
  },
  {
   "cell_type": "code",
   "execution_count": 12,
   "id": "2e6142fe-fa94-4ccb-b5e3-5b0a5809fba2",
   "metadata": {},
   "outputs": [
    {
     "name": "stderr",
     "output_type": "stream",
     "text": [
      "                                                                                \r"
     ]
    },
    {
     "data": {
      "text/plain": [
       "4949744"
      ]
     },
     "execution_count": 12,
     "metadata": {},
     "output_type": "execute_result"
    }
   ],
   "source": [
    "matches = joined.mapValues(lambda x: (x[0] == x[1][0], x)).filter(lambda x: x[1][0])\n",
    "equal_basepairs = matches.count()\n",
    "equal_basepairs"
   ]
  },
  {
   "cell_type": "code",
   "execution_count": 13,
   "id": "c3e92b5f-eff9-4d53-936b-7c675cff7bad",
   "metadata": {},
   "outputs": [
    {
     "data": {
      "text/plain": [
       "0.9996689813734869"
      ]
     },
     "execution_count": 13,
     "metadata": {},
     "output_type": "execute_result"
    }
   ],
   "source": [
    "equal_basepairs / total_basepairs"
   ]
  },
  {
   "cell_type": "code",
   "execution_count": 14,
   "id": "5434bc29-5e0f-4ea9-a3fe-028bef7c3550",
   "metadata": {},
   "outputs": [
    {
     "name": "stderr",
     "output_type": "stream",
     "text": [
      "                                                                                \r"
     ]
    },
    {
     "data": {
      "text/plain": [
       "828"
      ]
     },
     "execution_count": 14,
     "metadata": {},
     "output_type": "execute_result"
    }
   ],
   "source": [
    "not_matched = joined.mapValues(lambda x: (x[0] == x[1][0], x)).filter(lambda x: not x[1][0])\n",
    "not_matched.count()"
   ]
  },
  {
   "cell_type": "code",
   "execution_count": 15,
   "id": "80a3fb21-1964-42c4-81bc-308e796e1735",
   "metadata": {},
   "outputs": [
    {
     "name": "stderr",
     "output_type": "stream",
     "text": [
      "                                                                                \r"
     ]
    },
    {
     "data": {
      "text/plain": [
       "[(319232, (False, ('T', ('A', 1.0, 1, [('A', 1)])))),\n",
       " (832832, (False, ('C', ('T', 0.90625, 29, [('T', 29), ('C', 3)])))),\n",
       " (1128512,\n",
       "  (False, ('G', ('T', 0.5882352941176471, 10, [('T', 10), ('G', 7)])))),\n",
       " (4857600, (False, ('G', ('C', 1.0, 30, [('C', 30)])))),\n",
       " (2896000, (False, ('A', ('C', 0.5, 2, [('C', 2), ('A', 2)])))),\n",
       " (2745664, (False, ('G', ('A', 0.5454545454545454, 6, [('A', 6), ('G', 5)])))),\n",
       " (830720,\n",
       "  (False, ('A', ('G', 0.7391304347826086, 17, [('G', 17), ('A', 6)])))),\n",
       " (831680,\n",
       "  (False, ('T', ('C', 0.5483870967741935, 17, [('C', 17), ('T', 14)])))),\n",
       " (4857664, (False, ('G', ('T', 1.0, 31, [('T', 31)])))),\n",
       " (830208,\n",
       "  (False,\n",
       "   ('T', ('C', 0.6363636363636364, 7, [('C', 7), ('T', 3), ('G', 1)]))))]"
      ]
     },
     "execution_count": 15,
     "metadata": {},
     "output_type": "execute_result"
    }
   ],
   "source": [
    "not_matched.take(10)"
   ]
  },
  {
   "cell_type": "code",
   "execution_count": 16,
   "id": "abbe0de4-0a73-45ec-8604-a60dab7acdac",
   "metadata": {},
   "outputs": [
    {
     "data": {
      "text/plain": [
       "[(4857536, ('C', ('C', 1.0, 20, [('C', 20)]))),\n",
       " (4858176, ('T', ('T', 1.0, 21, [('T', 21)]))),\n",
       " (4858496, ('T', ('T', 1.0, 23, [('T', 23)]))),\n",
       " (4858816, ('T', ('T', 1.0, 37, [('T', 37)]))),\n",
       " (4859136, ('A', ('A', 1.0, 43, [('A', 43)]))),\n",
       " (4859456, ('A', ('A', 1.0, 28, [('A', 28)]))),\n",
       " (4859776, ('A', ('A', 1.0, 27, [('A', 27)]))),\n",
       " (4860096, ('A', ('A', 0.9705882352941176, 33, [('A', 33), ('C', 1)]))),\n",
       " (4860416, ('C', ('C', 1.0, 46, [('C', 46)]))),\n",
       " (4860736, ('T', ('T', 0.9791666666666666, 47, [('T', 47), ('A', 1)])))]"
      ]
     },
     "execution_count": 16,
     "metadata": {},
     "output_type": "execute_result"
    }
   ],
   "source": [
    "min_reads_threshold = 5\n",
    "min_confidence_threshold = 0.7\n",
    "confident_bases = joined.filter(lambda x: x[1][1][2] >= min_reads_threshold and x[1][1][1] >= min_confidence_threshold)\n",
    "confident_bases.take(10)"
   ]
  },
  {
   "cell_type": "code",
   "execution_count": 17,
   "id": "6e2246e6-3935-4cbe-82ff-aa8fb4b16e1d",
   "metadata": {},
   "outputs": [
    {
     "name": "stderr",
     "output_type": "stream",
     "text": [
      "                                                                                \r"
     ]
    },
    {
     "data": {
      "text/plain": [
       "[(64, (True, 'A', ('A', 1.0, 24, [('A', 24)]))),\n",
       " (384, (True, 'T', ('T', 1.0, 37, [('T', 37)]))),\n",
       " (704, (True, 'T', ('T', 0.9523809523809523, 20, [('T', 20), ('A', 1)]))),\n",
       " (1024, (True, 'A', ('A', 1.0, 18, [('A', 18)]))),\n",
       " (1344, (True, 'G', ('G', 1.0, 23, [('G', 23)]))),\n",
       " (1664, (True, 'G', ('G', 1.0, 27, [('G', 27)]))),\n",
       " (1984, (True, 'T', ('T', 1.0, 28, [('T', 28)]))),\n",
       " (2304, (True, 'A', ('A', 0.9545454545454546, 21, [('A', 21), ('C', 1)]))),\n",
       " (2624, (True, 'T', ('T', 1.0, 27, [('T', 27)]))),\n",
       " (2944, (True, 'C', ('C', 0.9705882352941176, 33, [('C', 33), ('A', 1)]))),\n",
       " (3264, (True, 'T', ('T', 1.0, 20, [('T', 20)]))),\n",
       " (3584, (True, 'C', ('C', 1.0, 38, [('C', 38)]))),\n",
       " (3904, (True, 'A', ('A', 1.0, 22, [('A', 22)]))),\n",
       " (4224, (True, 'G', ('G', 0.95, 19, [('G', 19), ('T', 1)]))),\n",
       " (4544, (True, 'C', ('C', 1.0, 27, [('C', 27)])))]"
      ]
     },
     "execution_count": 17,
     "metadata": {},
     "output_type": "execute_result"
    }
   ],
   "source": [
    "confident_matches = confident_bases.mapValues(lambda x: (x[0] == x[1][0], *x))\n",
    "confident_matches.take(15)"
   ]
  },
  {
   "cell_type": "code",
   "execution_count": 18,
   "id": "61907dea-15eb-41cf-bf5d-e29a37784c35",
   "metadata": {},
   "outputs": [
    {
     "name": "stderr",
     "output_type": "stream",
     "text": [
      "                                                                                \r"
     ]
    },
    {
     "data": {
      "text/plain": [
       "0.9838976302176584"
      ]
     },
     "execution_count": 18,
     "metadata": {},
     "output_type": "execute_result"
    }
   ],
   "source": [
    "matches_confident = confident_matches.count()\n",
    "matches_confident / total_basepairs"
   ]
  },
  {
   "cell_type": "code",
   "execution_count": 19,
   "id": "a9a29e31-6295-4867-b993-5ba79ce344c3",
   "metadata": {},
   "outputs": [
    {
     "name": "stderr",
     "output_type": "stream",
     "text": [
      "                                                                                \r"
     ]
    },
    {
     "data": {
      "text/plain": [
       "4871331"
      ]
     },
     "execution_count": 19,
     "metadata": {},
     "output_type": "execute_result"
    }
   ],
   "source": [
    "matches = confident_matches.filter(lambda x: x[1][0]).count()\n",
    "matches"
   ]
  },
  {
   "cell_type": "code",
   "execution_count": 20,
   "id": "559cd359-7918-48fe-9ad3-3240b08f09ac",
   "metadata": {},
   "outputs": [
    {
     "data": {
      "text/plain": [
       "0.9999336980828277"
      ]
     },
     "execution_count": 20,
     "metadata": {},
     "output_type": "execute_result"
    }
   ],
   "source": [
    "matches / matches_confident"
   ]
  },
  {
   "cell_type": "code",
   "execution_count": 21,
   "id": "33e63b6d-8570-4e68-8a0c-1e938747acdc",
   "metadata": {},
   "outputs": [
    {
     "name": "stderr",
     "output_type": "stream",
     "text": [
      "                                                                                \r"
     ]
    },
    {
     "data": {
      "text/plain": [
       "[(830720, (False, 'A', ('G', 0.7391304347826086, 17, [('G', 17), ('A', 6)]))),\n",
       " (832832, (False, 'C', ('T', 0.90625, 29, [('T', 29), ('C', 3)]))),\n",
       " (4857664, (False, 'G', ('T', 1.0, 31, [('T', 31)]))),\n",
       " (4857728, (False, 'A', ('C', 1.0, 21, [('C', 21)]))),\n",
       " (4857792, (False, 'G', ('A', 1.0, 32, [('A', 32)]))),\n",
       " (4857600, (False, 'G', ('C', 1.0, 30, [('C', 30)]))),\n",
       " (4857537, (False, 'A', ('C', 1.0, 21, [('C', 21)]))),\n",
       " (4857665, (False, 'C', ('T', 1.0, 31, [('T', 31)]))),\n",
       " (4857729, (False, 'C', ('G', 0.9523809523809523, 20, [('G', 20), ('C', 1)]))),\n",
       " (832769, (False, 'C', ('G', 0.75, 21, [('G', 21), ('C', 7)]))),\n",
       " (4857793, (False, 'G', ('A', 0.9375, 30, [('A', 30), ('G', 1), ('C', 1)]))),\n",
       " (4857601, (False, 'C', ('A', 1.0, 28, [('A', 28)]))),\n",
       " (830786, (False, 'A', ('G', 0.7391304347826086, 17, [('G', 17), ('A', 6)]))),\n",
       " (4857602, (False, 'A', ('G', 1.0, 28, [('G', 28)]))),\n",
       " (4857666, (False, 'C', ('T', 0.967741935483871, 30, [('T', 30), ('A', 1)]))),\n",
       " (4857730, (False, 'G', ('C', 1.0, 20, [('C', 20)]))),\n",
       " (4857731, (False, 'G', ('C', 0.9523809523809523, 20, [('C', 20), ('A', 1)]))),\n",
       " (4857667, (False, 'G', ('T', 0.967741935483871, 30, [('T', 30), ('G', 1)]))),\n",
       " (4857603, (False, 'G', ('A', 1.0, 28, [('A', 28)]))),\n",
       " (4857539, (False, 'A', ('C', 1.0, 20, [('C', 20)])))]"
      ]
     },
     "execution_count": 21,
     "metadata": {},
     "output_type": "execute_result"
    }
   ],
   "source": [
    "mutations = confident_matches.filter(lambda x: not x[1][0])\n",
    "mutations.take(20)"
   ]
  },
  {
   "cell_type": "code",
   "execution_count": 22,
   "id": "8b3e6764-83e4-4f3c-b275-a17c8fb13c44",
   "metadata": {},
   "outputs": [
    {
     "name": "stderr",
     "output_type": "stream",
     "text": [
      "                                                                                \r"
     ]
    },
    {
     "data": {
      "text/plain": [
       "323"
      ]
     },
     "execution_count": 22,
     "metadata": {},
     "output_type": "execute_result"
    }
   ],
   "source": [
    "mutations.count()"
   ]
  },
  {
   "cell_type": "code",
   "execution_count": null,
   "id": "e346042e-45b5-415d-9938-686b72c426e1",
   "metadata": {},
   "outputs": [],
   "source": []
  }
 ],
 "metadata": {
  "kernelspec": {
   "display_name": "Python 3 (ipykernel)",
   "language": "python",
   "name": "python3"
  },
  "language_info": {
   "codemirror_mode": {
    "name": "ipython",
    "version": 3
   },
   "file_extension": ".py",
   "mimetype": "text/x-python",
   "name": "python",
   "nbconvert_exporter": "python",
   "pygments_lexer": "ipython3",
   "version": "3.8.10"
  }
 },
 "nbformat": 4,
 "nbformat_minor": 5
}
