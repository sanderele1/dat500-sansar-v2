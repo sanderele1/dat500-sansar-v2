{
 "cells": [
  {
   "cell_type": "markdown",
   "id": "61fd10c7-0b5a-47d4-a397-b575483ada5f",
   "metadata": {},
   "source": [
    "# https://github.com/apache/hbase/blob/master/hbase-thrift/src/main/resources/org/apache/hadoop/hbase/thrift2/hbase.thrift"
   ]
  },
  {
   "cell_type": "code",
   "execution_count": 8,
   "id": "6948d0ec-e6a2-43da-a302-4c5f2cac48d8",
   "metadata": {},
   "outputs": [],
   "source": [
    "import thrift as t\n",
    "from hbase_thrift.hbase.ttypes import *\n",
    "\n",
    "from thrift.transport import *\n",
    "from thrift.protocol import *\n",
    "\n",
    "import hbase_connector as hb\n"
   ]
  },
  {
   "cell_type": "code",
   "execution_count": 9,
   "id": "5cae7c0e-6394-4a0e-ba91-a77d103567ff",
   "metadata": {},
   "outputs": [],
   "source": [
    "hbase = hb.HbaseConnection(\"datanode1\", 9090)"
   ]
  },
  {
   "cell_type": "code",
   "execution_count": 10,
   "id": "876807a7-d743-4f2e-97e1-1354e433be42",
   "metadata": {},
   "outputs": [],
   "source": [
    "## Deletes all tables in databse (except for hbase internal tables)\n",
    "#with hbase as c:\n",
    "#    for table in filter(lambda x: x.ns != b'hbase', tables):\n",
    "#        if c.isTableEnabled(table):\n",
    "#            c.disableTable(table)\n",
    "#        c.deleteTable(table)"
   ]
  },
  {
   "cell_type": "code",
   "execution_count": 11,
   "id": "2c2b6b9f-da8f-438d-8d50-f46c060eae80",
   "metadata": {},
   "outputs": [],
   "source": [
    "with hbase as c:\n",
    "    c1 = TColumnFamilyDescriptor(name=b'c1')\n",
    "    c2 = TColumnFamilyDescriptor(name=b'c2')\n",
    "    name = TTableName(qualifier=b'demo_table')\n",
    "    tt = TTableDescriptor(tableName=name, columns=[c1, c2])\n",
    "    c.createTable(tt, None)"
   ]
  },
  {
   "cell_type": "code",
   "execution_count": 12,
   "id": "8bb60762-99e2-4ecc-b3fc-fc6b43cd2ca2",
   "metadata": {},
   "outputs": [
    {
     "data": {
      "text/plain": [
       "[TTableName(ns=b'default', qualifier=b'aGJhc2Vfc2FsbW9uZWxsYV9wb3NfcHJlZml4X2J1Y2tldF8AAA'),\n",
       " TTableName(ns=b'default', qualifier=b'aGJhc2Vfc2FsbW9uZWxsYV9wb3NfcHJlZml4X2J1Y2tldF8AAQ'),\n",
       " TTableName(ns=b'default', qualifier=b'aGJhc2Vfc2FsbW9uZWxsYV9wb3NfcHJlZml4X2J1Y2tldF8AAg'),\n",
       " TTableName(ns=b'default', qualifier=b'aGJhc2Vfc2FsbW9uZWxsYV9wb3NfcHJlZml4X2J1Y2tldF8AAw'),\n",
       " TTableName(ns=b'default', qualifier=b'aGJhc2Vfc2FsbW9uZWxsYV9wb3NfcHJlZml4X2J1Y2tldF8ABA'),\n",
       " TTableName(ns=b'default', qualifier=b'aGJhc2Vfc2FsbW9uZWxsYV9wb3NfcHJlZml4X2tleXM'),\n",
       " TTableName(ns=b'default', qualifier=b'aGJhc2Vfc2FsbW9uZWxsYV9wb3NfcHJlZml4XzdfYnVja2V0XwAA'),\n",
       " TTableName(ns=b'default', qualifier=b'aGJhc2Vfc2FsbW9uZWxsYV9wb3NfcHJlZml4XzdfYnVja2V0XwAB'),\n",
       " TTableName(ns=b'default', qualifier=b'aGJhc2Vfc2FsbW9uZWxsYV9wb3NfcHJlZml4XzdfYnVja2V0XwAC'),\n",
       " TTableName(ns=b'default', qualifier=b'aGJhc2Vfc2FsbW9uZWxsYV9wb3NfcHJlZml4XzdfYnVja2V0XwAD'),\n",
       " TTableName(ns=b'default', qualifier=b'aGJhc2Vfc2FsbW9uZWxsYV9wb3NfcHJlZml4XzdfYnVja2V0XwAE'),\n",
       " TTableName(ns=b'default', qualifier=b'aGJhc2Vfc2FsbW9uZWxsYV9wb3NfcHJlZml4XzdfYnVja2V0XwAF'),\n",
       " TTableName(ns=b'default', qualifier=b'aGJhc2Vfc2FsbW9uZWxsYV9wb3NfcHJlZml4XzdfYnVja2V0XwAG'),\n",
       " TTableName(ns=b'default', qualifier=b'aGJhc2Vfc2FsbW9uZWxsYV9wb3NfcHJlZml4XzdfYnVja2V0XwAH'),\n",
       " TTableName(ns=b'default', qualifier=b'aGJhc2Vfc2FsbW9uZWxsYV9wb3NfcHJlZml4XzdfYnVja2V0XwAI'),\n",
       " TTableName(ns=b'default', qualifier=b'aGJhc2Vfc2FsbW9uZWxsYV9wb3NfcHJlZml4XzdfYnVja2V0XwAJ'),\n",
       " TTableName(ns=b'default', qualifier=b'aGJhc2Vfc2FsbW9uZWxsYV9wb3NfcHJlZml4XzdfYnVja2V0XwAK'),\n",
       " TTableName(ns=b'default', qualifier=b'aGJhc2Vfc2FsbW9uZWxsYV9wb3NfcHJlZml4XzdfYnVja2V0XwAL'),\n",
       " TTableName(ns=b'default', qualifier=b'aGJhc2Vfc2FsbW9uZWxsYV9wb3NfcHJlZml4XzdfYnVja2V0XwAM'),\n",
       " TTableName(ns=b'default', qualifier=b'aGJhc2Vfc2FsbW9uZWxsYV9wb3NfcHJlZml4XzdfYnVja2V0XwAN'),\n",
       " TTableName(ns=b'default', qualifier=b'aGJhc2Vfc2FsbW9uZWxsYV9wb3NfcHJlZml4XzdfYnVja2V0XwAO'),\n",
       " TTableName(ns=b'default', qualifier=b'aGJhc2Vfc2FsbW9uZWxsYV9wb3NfcHJlZml4XzdfYnVja2V0XwAP'),\n",
       " TTableName(ns=b'default', qualifier=b'aGJhc2Vfc2FsbW9uZWxsYV9wb3NfcHJlZml4XzdfYnVja2V0XwAQ'),\n",
       " TTableName(ns=b'default', qualifier=b'aGJhc2Vfc2FsbW9uZWxsYV9wb3NfcHJlZml4XzdfYnVja2V0XwAR'),\n",
       " TTableName(ns=b'default', qualifier=b'aGJhc2Vfc2FsbW9uZWxsYV9wb3NfcHJlZml4XzdfYnVja2V0XwAS'),\n",
       " TTableName(ns=b'default', qualifier=b'aGJhc2Vfc2FsbW9uZWxsYV9wb3NfcHJlZml4XzdfYnVja2V0XwAT'),\n",
       " TTableName(ns=b'default', qualifier=b'aGJhc2Vfc2FsbW9uZWxsYV9wb3NfcHJlZml4XzdfYnVja2V0XwAU'),\n",
       " TTableName(ns=b'default', qualifier=b'aGJhc2Vfc2FsbW9uZWxsYV9wb3NfcHJlZml4XzdfYnVja2V0XwAV'),\n",
       " TTableName(ns=b'default', qualifier=b'aGJhc2Vfc2FsbW9uZWxsYV9wb3NfcHJlZml4XzdfYnVja2V0XwAW'),\n",
       " TTableName(ns=b'default', qualifier=b'aGJhc2Vfc2FsbW9uZWxsYV9wb3NfcHJlZml4XzdfYnVja2V0XwAX'),\n",
       " TTableName(ns=b'default', qualifier=b'aGJhc2Vfc2FsbW9uZWxsYV9wb3NfcHJlZml4XzdfYnVja2V0XwAY'),\n",
       " TTableName(ns=b'default', qualifier=b'aGJhc2Vfc2FsbW9uZWxsYV9wb3NfcHJlZml4Xzdfa2V5cw'),\n",
       " TTableName(ns=b'default', qualifier=b'aGJhc2Vfc2FsbW9uZWxsYV9wb3NfcHJlZml4XzhfYnVja2V0XwAA'),\n",
       " TTableName(ns=b'default', qualifier=b'aGJhc2Vfc2FsbW9uZWxsYV9wb3NfcHJlZml4XzhfYnVja2V0XwAB'),\n",
       " TTableName(ns=b'default', qualifier=b'aGJhc2Vfc2FsbW9uZWxsYV9wb3NfcHJlZml4XzhfYnVja2V0XwAC'),\n",
       " TTableName(ns=b'default', qualifier=b'aGJhc2Vfc2FsbW9uZWxsYV9wb3NfcHJlZml4XzhfYnVja2V0XwAD'),\n",
       " TTableName(ns=b'default', qualifier=b'aGJhc2Vfc2FsbW9uZWxsYV9wb3NfcHJlZml4XzhfYnVja2V0XwAE'),\n",
       " TTableName(ns=b'default', qualifier=b'aGJhc2Vfc2FsbW9uZWxsYV9wb3NfcHJlZml4XzhfYnVja2V0XwAF'),\n",
       " TTableName(ns=b'default', qualifier=b'aGJhc2Vfc2FsbW9uZWxsYV9wb3NfcHJlZml4XzhfYnVja2V0XwAG'),\n",
       " TTableName(ns=b'default', qualifier=b'aGJhc2Vfc2FsbW9uZWxsYV9wb3NfcHJlZml4XzhfYnVja2V0XwAH'),\n",
       " TTableName(ns=b'default', qualifier=b'aGJhc2Vfc2FsbW9uZWxsYV9wb3NfcHJlZml4XzhfYnVja2V0XwAI'),\n",
       " TTableName(ns=b'default', qualifier=b'aGJhc2Vfc2FsbW9uZWxsYV9wb3NfcHJlZml4Xzhfa2V5cw'),\n",
       " TTableName(ns=b'default', qualifier=b'demo_table'),\n",
       " TTableName(ns=b'hbase', qualifier=b'meta'),\n",
       " TTableName(ns=b'hbase', qualifier=b'namespace')]"
      ]
     },
     "execution_count": 12,
     "metadata": {},
     "output_type": "execute_result"
    }
   ],
   "source": [
    "with hbase as c:\n",
    "    tables = c.getTableNamesByNamespace('')\n",
    "tables"
   ]
  },
  {
   "cell_type": "code",
   "execution_count": 13,
   "id": "48071fbb-6d1a-4019-b2de-73343577c8fd",
   "metadata": {},
   "outputs": [],
   "source": [
    "col1 = TColumnValue(family=b'c1', qualifier=b'prefix2', value=b'uhhhh')\n",
    "put = TPut(row=b'hello row', columnValues=[col1])\n",
    "\n",
    "with hbase as c:\n",
    "    c.put(b'demo_table', put)"
   ]
  },
  {
   "cell_type": "code",
   "execution_count": 14,
   "id": "7785af3c-6d3a-48a7-9816-fec2e04bdf63",
   "metadata": {},
   "outputs": [
    {
     "data": {
      "text/plain": [
       "TResult(row=b'hello row', columnValues=[TColumnValue(family=b'c1', qualifier=b'prefix2', value=b'uhhhh', timestamp=1650984502807, tags=None, type=4)], stale=False, partial=False)"
      ]
     },
     "execution_count": 14,
     "metadata": {},
     "output_type": "execute_result"
    }
   ],
   "source": [
    "with hbase as c:\n",
    "    v = c.get(b'demo_table', TGet(row=b'hello row'))\n",
    "v"
   ]
  },
  {
   "cell_type": "code",
   "execution_count": 15,
   "id": "973c48b8-7cbe-4162-9df7-0fa1db15dd55",
   "metadata": {},
   "outputs": [],
   "source": [
    "with hbase as c:\n",
    "    col1 = TColumnValue(family=b'c1', qualifier=b'prefix2', value=b'uhhhh')\n",
    "    put = TPut(row=b'anotha row', columnValues=[col1])\n",
    "    \n",
    "    col2 = TColumnValue(family=b'c2', qualifier=b'prefix4', value=b'adaaaaaa')\n",
    "    put2 = TPut(row=b'not row3', columnValues=[col2])\n",
    "    \n",
    "    r = c.putMultiple(b'demo_table', [put, put2])\n",
    "r"
   ]
  },
  {
   "cell_type": "code",
   "execution_count": 16,
   "id": "858d1a88-258f-430f-a47f-e8d3a1234b66",
   "metadata": {},
   "outputs": [
    {
     "data": {
      "text/plain": [
       "[TResult(row=b'hello row', columnValues=[TColumnValue(family=b'c1', qualifier=b'prefix2', value=b'uhhhh', timestamp=1650984502807, tags=None, type=4)], stale=False, partial=False),\n",
       " TResult(row=None, columnValues=[], stale=False, partial=False)]"
      ]
     },
     "execution_count": 16,
     "metadata": {},
     "output_type": "execute_result"
    }
   ],
   "source": [
    "with hbase as c:\n",
    "    r = c.getMultiple(b'demo_table', [TGet(row=b'hello row'), TGet(row=b'hello row3')])\n",
    "r"
   ]
  },
  {
   "cell_type": "code",
   "execution_count": 17,
   "id": "feaa9767-c046-417d-b5fb-cb03900fe1c5",
   "metadata": {},
   "outputs": [
    {
     "data": {
      "text/plain": [
       "[[TResult(row=b'hello row', columnValues=[TColumnValue(family=b'c1', qualifier=b'prefix2', value=b'uhhhh', timestamp=1650984502807, tags=None, type=4)], stale=False, partial=False)],\n",
       " []]"
      ]
     },
     "execution_count": 17,
     "metadata": {},
     "output_type": "execute_result"
    }
   ],
   "source": [
    "# filterBytes: https://hbase.apache.org/devapidocs/src-html/org/apache/hadoop/hbase/thrift2/ThriftUtilities.html#line.617\n",
    "# So it's a protobuf serialized something\n",
    "\n",
    "with hbase as c:\n",
    "    s = TScan(filterString=b'PrefixFilter(\\'hello\\')')\n",
    "    #s = TScan(reversed = True)\n",
    "    scanner = c.openScanner(b'demo_table', tscan=s)\n",
    "    \n",
    "    readRows = None\n",
    "    rows = []\n",
    "    while readRows == None or len(readRows) == 1: \n",
    "        readRows = c.getScannerRows(scanner, numRows=1)\n",
    "        rows.append(readRows)\n",
    "    c.closeScanner(scanner)\n",
    "    \n",
    "rows"
   ]
  },
  {
   "cell_type": "code",
   "execution_count": 18,
   "id": "751928c1-be20-48df-8d60-a31b48289acd",
   "metadata": {},
   "outputs": [
    {
     "data": {
      "text/plain": [
       "False"
      ]
     },
     "execution_count": 18,
     "metadata": {},
     "output_type": "execute_result"
    }
   ],
   "source": [
    "with hbase as c:\n",
    "    r = c.tableExists(TTableName(qualifier=b'nope'))\n",
    "r"
   ]
  },
  {
   "cell_type": "code",
   "execution_count": 19,
   "id": "434a5620-9228-43c2-b778-c725d0155b6e",
   "metadata": {},
   "outputs": [
    {
     "data": {
      "text/plain": [
       "True"
      ]
     },
     "execution_count": 19,
     "metadata": {},
     "output_type": "execute_result"
    }
   ],
   "source": [
    "with hbase as c:\n",
    "    r = c.tableExists(TTableName(qualifier=b'demo_table'))\n",
    "r"
   ]
  },
  {
   "cell_type": "code",
   "execution_count": 20,
   "id": "f86f79e6-88e6-4fc1-94ad-fc17caf5fd90",
   "metadata": {},
   "outputs": [
    {
     "data": {
      "text/plain": [
       "True"
      ]
     },
     "execution_count": 20,
     "metadata": {},
     "output_type": "execute_result"
    }
   ],
   "source": [
    "with hbase as c:\n",
    "    r = c.exists(b'demo_table', TGet(row=b'hello row'))\n",
    "r"
   ]
  },
  {
   "cell_type": "code",
   "execution_count": null,
   "id": "8bdc3d2b-fc31-44d2-937e-ba1ec98aa73d",
   "metadata": {},
   "outputs": [],
   "source": []
  }
 ],
 "metadata": {
  "kernelspec": {
   "display_name": "Python 3 (ipykernel)",
   "language": "python",
   "name": "python3"
  },
  "language_info": {
   "codemirror_mode": {
    "name": "ipython",
    "version": 3
   },
   "file_extension": ".py",
   "mimetype": "text/x-python",
   "name": "python",
   "nbconvert_exporter": "python",
   "pygments_lexer": "ipython3",
   "version": "3.8.10"
  }
 },
 "nbformat": 4,
 "nbformat_minor": 5
}
