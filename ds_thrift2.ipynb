{
 "cells": [
  {
   "cell_type": "code",
   "execution_count": 1,
   "id": "3e719dbe-bbd1-4a33-99ba-67c6c1ac2886",
   "metadata": {},
   "outputs": [],
   "source": [
    "import datasketch as ds\n",
    "import struct\n",
    "import pickle\n",
    "import base64\n",
    "import time\n",
    "import random\n",
    "import pickle"
   ]
  },
  {
   "cell_type": "code",
   "execution_count": 2,
   "id": "4a2b808d-56c3-4abd-9031-ff8d4972bba7",
   "metadata": {},
   "outputs": [],
   "source": [
    "import datasketch as ds\n",
    "import hbase_connector as hb"
   ]
  },
  {
   "cell_type": "markdown",
   "id": "8a055083-58e2-4008-b43c-ea5017bd4932",
   "metadata": {},
   "source": [
    "> Note: ds.lsh.MinHashLSH(...) may take some time to execute the first time, as it's creating tables inside hbase"
   ]
  },
  {
   "cell_type": "markdown",
   "id": "7a4f2f47-c210-4d42-a84e-deb58c91add3",
   "metadata": {},
   "source": [
    "## LSH with HBase as backing memory"
   ]
  },
  {
   "cell_type": "code",
   "execution_count": 3,
   "id": "c6f86cf1-f842-4ee7-b2dc-44aad723e7f1",
   "metadata": {},
   "outputs": [],
   "source": [
    "pool = hb.HbaseConnection(host=\"datanode1\", port=9090)\n",
    "lsh = ds.lsh.MinHashLSH(threshold=0.5, storage_config={'type': 'hbase', 'basename': b'demotablelsh_v4', 'hbase_pool': pool}, prepickle=True)"
   ]
  },
  {
   "cell_type": "code",
   "execution_count": 4,
   "id": "c2556b4b-aadf-4429-b2d6-4a1dfe54b4b2",
   "metadata": {},
   "outputs": [],
   "source": [
    "def create_hash(string):\n",
    "    mh2 = ds.MinHash()\n",
    "    for c in string:\n",
    "        mh2.update(c.encode('utf8'))\n",
    "    return mh2"
   ]
  },
  {
   "cell_type": "code",
   "execution_count": 5,
   "id": "a428f113-c7fe-49bb-a12b-2f0f76f4edd4",
   "metadata": {},
   "outputs": [],
   "source": [
    "values = ['hello', 'hotel', 'hamburger', 'house', 'ham', 'oreo', 'chocolate', 'silk', 'rodeo'] \n",
    "hashes = [create_hash(v) for v in values]\n",
    "for key, h in zip(values, hashes):\n",
    "    lsh.insert(key, h)"
   ]
  },
  {
   "cell_type": "markdown",
   "id": "2bb83ea6-d59e-42fc-8621-395ebc2708cb",
   "metadata": {},
   "source": [
    "## LSH with local memory for a comparison"
   ]
  },
  {
   "cell_type": "code",
   "execution_count": 6,
   "id": "a0aa9f83-551e-4dbb-b157-e0e1b3a85f4c",
   "metadata": {},
   "outputs": [],
   "source": [
    "lsh_d = ds.lsh.MinHashLSH(threshold=0.5)\n",
    "for key, h in zip(values, hashes):\n",
    "    lsh_d.insert(key, h)"
   ]
  },
  {
   "cell_type": "markdown",
   "id": "5242b371-181b-4694-90e7-4ddc14290dbe",
   "metadata": {},
   "source": [
    "## And now for a query"
   ]
  },
  {
   "cell_type": "code",
   "execution_count": 7,
   "id": "b0dedc89-dcb1-44d7-a00c-90c2f0a09436",
   "metadata": {},
   "outputs": [
    {
     "data": {
      "text/plain": [
       "(['chocolate', 'hotel', 'hello'], ['hello', 'chocolate', 'hotel'])"
      ]
     },
     "execution_count": 7,
     "metadata": {},
     "output_type": "execute_result"
    }
   ],
   "source": [
    "query = create_hash(\"hotel\")\n",
    "# Hbase, Local\n",
    "lsh.query(query), lsh_d.query(query)\n",
    "# They match (except order) :)"
   ]
  },
  {
   "cell_type": "code",
   "execution_count": null,
   "id": "cae3473c-1fc5-436e-908d-6230314b1a80",
   "metadata": {},
   "outputs": [],
   "source": []
  }
 ],
 "metadata": {
  "kernelspec": {
   "display_name": "Python 3 (ipykernel)",
   "language": "python",
   "name": "python3"
  },
  "language_info": {
   "codemirror_mode": {
    "name": "ipython",
    "version": 3
   },
   "file_extension": ".py",
   "mimetype": "text/x-python",
   "name": "python",
   "nbconvert_exporter": "python",
   "pygments_lexer": "ipython3",
   "version": "3.8.10"
  }
 },
 "nbformat": 4,
 "nbformat_minor": 5
}
