{
 "cells": [
  {
   "cell_type": "markdown",
   "id": "a038e23e-990d-48a7-ba7e-9b9ab025f9b0",
   "metadata": {},
   "source": [
    "# Configuration"
   ]
  },
  {
   "cell_type": "code",
   "execution_count": 1,
   "id": "1f95f681-c816-47b9-802d-1c569b2b0277",
   "metadata": {},
   "outputs": [],
   "source": [
    "input_file = 'hdfs:///files/salmonella/SRR15404285.fasta'\n",
    "output_file = 'hdfs:///files/salmonella/SRR15404285.pickleb64.320'\n",
    "partitions = 320"
   ]
  },
  {
   "cell_type": "code",
   "execution_count": 2,
   "id": "bc81cefe-9f60-4769-b908-a1297678cfff",
   "metadata": {},
   "outputs": [
    {
     "data": {
      "text/plain": [
       "'/usr/local/spark/python/pyspark'"
      ]
     },
     "execution_count": 2,
     "metadata": {},
     "output_type": "execute_result"
    }
   ],
   "source": [
    "import pickle\n",
    "import base64\n",
    "\n",
    "import findspark\n",
    "findspark.init()\n",
    "findspark.find()"
   ]
  },
  {
   "cell_type": "code",
   "execution_count": 3,
   "id": "00f0fa3a-10a6-4b3c-a1c6-b0fa44c3b53f",
   "metadata": {},
   "outputs": [
    {
     "name": "stderr",
     "output_type": "stream",
     "text": [
      "Setting default log level to \"WARN\".\n",
      "To adjust logging level use sc.setLogLevel(newLevel). For SparkR, use setLogLevel(newLevel).\n",
      "2022-04-23 17:28:49,992 WARN util.NativeCodeLoader: Unable to load native-hadoop library for your platform... using builtin-java classes where applicable\n",
      "2022-04-23 17:28:57,894 WARN yarn.Client: Neither spark.yarn.jars nor spark.yarn.archive is set, falling back to uploading libraries under SPARK_HOME.\n"
     ]
    },
    {
     "data": {
      "text/html": [
       "\n",
       "        <div>\n",
       "            <p><b>SparkContext</b></p>\n",
       "\n",
       "            <p><a href=\"http://namenode:4040\">Spark UI</a></p>\n",
       "\n",
       "            <dl>\n",
       "              <dt>Version</dt>\n",
       "                <dd><code>v3.2.0</code></dd>\n",
       "              <dt>Master</dt>\n",
       "                <dd><code>yarn</code></dd>\n",
       "              <dt>AppName</dt>\n",
       "                <dd><code>python-testing</code></dd>\n",
       "            </dl>\n",
       "        </div>\n",
       "        "
      ],
      "text/plain": [
       "<SparkContext master=yarn appName=python-testing>"
      ]
     },
     "execution_count": 3,
     "metadata": {},
     "output_type": "execute_result"
    }
   ],
   "source": [
    "from pyspark.sql import SparkSession\n",
    "\n",
    "spark = (SparkSession\n",
    "         .builder\n",
    "         .master(\"yarn\")\n",
    "         .appName(\"python-testing\")\n",
    "         .config(\"spark.executor.instances\", 8)\n",
    "         .config(\"spark.executor.memory\", \"800m\")\n",
    "         .getOrCreate())\n",
    "sc = spark.sparkContext\n",
    "sc"
   ]
  },
  {
   "cell_type": "code",
   "execution_count": 4,
   "id": "7877a233-9d36-492e-9b0d-0d3e59036765",
   "metadata": {},
   "outputs": [
    {
     "name": "stderr",
     "output_type": "stream",
     "text": [
      "                                                                                \r"
     ]
    },
    {
     "data": {
      "text/plain": [
       "[(0,\n",
       "  'TGCCGNCCTGAGCGAAAGCCTGCTGGAAGAAGTAGCTTCGCTGGTGGAATGGCCGGTGGTATTGACGGCGAAATT')]"
      ]
     },
     "execution_count": 4,
     "metadata": {},
     "output_type": "execute_result"
    }
   ],
   "source": [
    "reads = sc.textFile(input_file).filter(lambda x: not x.startswith('>')).zipWithIndex().map(lambda x: (x[1], x[0]))\n",
    "reads.take(1)"
   ]
  },
  {
   "cell_type": "code",
   "execution_count": 5,
   "id": "1ea1a4f9-4281-404d-b7bb-efda45df3308",
   "metadata": {},
   "outputs": [
    {
     "name": "stderr",
     "output_type": "stream",
     "text": [
      "                                                                                \r"
     ]
    },
    {
     "data": {
      "text/plain": [
       "[b'\\x80\\x04\\x95S\\x00\\x00\\x00\\x00\\x00\\x00\\x00K\\x00\\x8cKTGCCGNCCTGAGCGAAAGCCTGCTGGAAGAAGTAGCTTCGCTGGTGGAATGGCCGGTGGTATTGACGGCGAAATT\\x94\\x86\\x94.']"
      ]
     },
     "execution_count": 5,
     "metadata": {},
     "output_type": "execute_result"
    }
   ],
   "source": [
    "pickled = reads.map(lambda x: pickle.dumps(x))\n",
    "pickled.take(1)"
   ]
  },
  {
   "cell_type": "code",
   "execution_count": 6,
   "id": "34f29f0a-8258-46fd-9f0e-aa0cf98c0377",
   "metadata": {},
   "outputs": [
    {
     "data": {
      "text/plain": [
       "[b'gASVUwAAAAAAAABLAIxLVEdDQ0dOQ0NUR0FHQ0dBQUFHQ0NUR0NUR0dBQUdBQUdUQUdDVFRDR0NUR0dUR0dBQVRHR0NDR0dUR0dUQVRUR0FDR0dDR0FBQVRUlIaULg==']"
      ]
     },
     "execution_count": 6,
     "metadata": {},
     "output_type": "execute_result"
    }
   ],
   "source": [
    "base64d = pickled.map(lambda x: base64.b64encode(x))\n",
    "base64d.take(1)"
   ]
  },
  {
   "cell_type": "code",
   "execution_count": 7,
   "id": "650c4f32-185c-4dab-9df8-36e1fa20a766",
   "metadata": {},
   "outputs": [
    {
     "name": "stderr",
     "output_type": "stream",
     "text": [
      "                                                                                \r"
     ]
    }
   ],
   "source": [
    "base64d.repartition(partitions).saveAsTextFile(output_file)"
   ]
  },
  {
   "cell_type": "code",
   "execution_count": 4,
   "id": "9d2f73ab-7df7-443e-85a1-55ddb9966103",
   "metadata": {},
   "outputs": [
    {
     "data": {
      "text/plain": [
       "[0, 1, 2]"
      ]
     },
     "execution_count": 4,
     "metadata": {},
     "output_type": "execute_result"
    }
   ],
   "source": [
    "[x for x in range(3)]"
   ]
  },
  {
   "cell_type": "code",
   "execution_count": null,
   "id": "54ab23ab-eaff-452a-92f0-8cea53deda3f",
   "metadata": {},
   "outputs": [],
   "source": []
  }
 ],
 "metadata": {
  "kernelspec": {
   "display_name": "Python 3 (ipykernel)",
   "language": "python",
   "name": "python3"
  },
  "language_info": {
   "codemirror_mode": {
    "name": "ipython",
    "version": 3
   },
   "file_extension": ".py",
   "mimetype": "text/x-python",
   "name": "python",
   "nbconvert_exporter": "python",
   "pygments_lexer": "ipython3",
   "version": "3.8.10"
  }
 },
 "nbformat": 4,
 "nbformat_minor": 5
}
