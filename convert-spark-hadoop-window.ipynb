{
 "cells": [
  {
   "cell_type": "markdown",
   "id": "2af9e878-be91-40be-8745-de53cd5cc6de",
   "metadata": {},
   "source": [
    "# Configuration"
   ]
  },
  {
   "cell_type": "code",
   "execution_count": 1,
   "id": "b0f59ea6-7205-476c-bbfb-9ea6ff295610",
   "metadata": {},
   "outputs": [],
   "source": [
    "input_file = \"hdfs:///files/salmonella/window\"\n",
    "output_file = \"hdfs:///files/salmonella/window.b64pickled\""
   ]
  },
  {
   "cell_type": "code",
   "execution_count": 2,
   "id": "d847fcdc-1895-4432-94cc-39a158fe63b6",
   "metadata": {},
   "outputs": [
    {
     "data": {
      "text/plain": [
       "'/usr/local/spark/python/pyspark'"
      ]
     },
     "execution_count": 2,
     "metadata": {},
     "output_type": "execute_result"
    }
   ],
   "source": [
    "import findspark\n",
    "findspark.init()\n",
    "findspark.find()"
   ]
  },
  {
   "cell_type": "code",
   "execution_count": 4,
   "id": "ef17e1de-0b9a-45b4-a051-489d47627d2b",
   "metadata": {},
   "outputs": [
    {
     "data": {
      "text/html": [
       "\n",
       "        <div>\n",
       "            <p><b>SparkContext</b></p>\n",
       "\n",
       "            <p><a href=\"http://namenode:4040\">Spark UI</a></p>\n",
       "\n",
       "            <dl>\n",
       "              <dt>Version</dt>\n",
       "                <dd><code>v3.2.0</code></dd>\n",
       "              <dt>Master</dt>\n",
       "                <dd><code>yarn</code></dd>\n",
       "              <dt>AppName</dt>\n",
       "                <dd><code>python-testing</code></dd>\n",
       "            </dl>\n",
       "        </div>\n",
       "        "
      ],
      "text/plain": [
       "<SparkContext master=yarn appName=python-testing>"
      ]
     },
     "execution_count": 4,
     "metadata": {},
     "output_type": "execute_result"
    }
   ],
   "source": [
    "from pyspark.sql import SparkSession\n",
    "\n",
    "spark = (SparkSession\n",
    "         .builder\n",
    "         .master(\"yarn\")\n",
    "         .appName(\"python-testing\")\n",
    "         .config(\"spark.executor.instances\", 16)\n",
    "         .config(\"spark.executor.memory\", \"1536m\")\n",
    "         .getOrCreate())\n",
    "\n",
    "sc = spark.sparkContext\n",
    "sc"
   ]
  },
  {
   "cell_type": "code",
   "execution_count": 5,
   "id": "463d3847-87d2-4f7b-a4ec-58f73d7b75bf",
   "metadata": {},
   "outputs": [
    {
     "name": "stderr",
     "output_type": "stream",
     "text": [
      "                                                                                \r"
     ]
    }
   ],
   "source": [
    "raw = sc.sequenceFile(input_file)"
   ]
  },
  {
   "cell_type": "code",
   "execution_count": 6,
   "id": "55b91ff7-bd8a-45f5-8409-20dd30a70eb5",
   "metadata": {},
   "outputs": [],
   "source": [
    "def mapTobase64Pickle(values):\n",
    "    import pickle\n",
    "    import base64\n",
    "    pickled = [pickle.dumps(v) for v in values]\n",
    "    b64d = [base64.b64encode(p) for p in pickled]\n",
    "    return b64d\n",
    "\n",
    "b64pickled = raw.mapPartitions(mapTobase64Pickle)"
   ]
  },
  {
   "cell_type": "code",
   "execution_count": 7,
   "id": "fd34405d-8595-4b84-955e-69c35ce29aa3",
   "metadata": {},
   "outputs": [
    {
     "name": "stderr",
     "output_type": "stream",
     "text": [
      "                                                                                \r"
     ]
    }
   ],
   "source": [
    "b64pickled.saveAsTextFile(output_file)"
   ]
  },
  {
   "cell_type": "code",
   "execution_count": null,
   "id": "db5b8c7a-3813-4cec-a408-992c9c448f4e",
   "metadata": {},
   "outputs": [],
   "source": []
  }
 ],
 "metadata": {
  "kernelspec": {
   "display_name": "Python 3 (ipykernel)",
   "language": "python",
   "name": "python3"
  },
  "language_info": {
   "codemirror_mode": {
    "name": "ipython",
    "version": 3
   },
   "file_extension": ".py",
   "mimetype": "text/x-python",
   "name": "python",
   "nbconvert_exporter": "python",
   "pygments_lexer": "ipython3",
   "version": "3.8.10"
  }
 },
 "nbformat": 4,
 "nbformat_minor": 5
}
